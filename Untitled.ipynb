{
 "cells": [
  {
   "cell_type": "code",
   "execution_count": 2,
   "metadata": {},
   "outputs": [
    {
     "name": "stdout",
     "output_type": "stream",
     "text": [
      "Collecting librosa\n",
      "  Using cached librosa-0.8.1-py3-none-any.whl (203 kB)\n",
      "Requirement already satisfied: scipy>=1.0.0 in /Users/saeran/opt/anaconda3/lib/python3.8/site-packages (from librosa) (1.7.1)\n",
      "Requirement already satisfied: decorator>=3.0.0 in /Users/saeran/opt/anaconda3/lib/python3.8/site-packages (from librosa) (5.1.0)\n",
      "Requirement already satisfied: soundfile>=0.10.2 in /Users/saeran/opt/anaconda3/lib/python3.8/site-packages (from librosa) (0.10.3.post1)\n",
      "Collecting pooch>=1.0\n",
      "  Using cached pooch-1.5.2-py3-none-any.whl (57 kB)\n",
      "Collecting resampy>=0.2.2\n",
      "  Using cached resampy-0.2.2.tar.gz (323 kB)\n",
      "Requirement already satisfied: numba>=0.43.0 in /Users/saeran/opt/anaconda3/lib/python3.8/site-packages (from librosa) (0.51.2)\n",
      "Requirement already satisfied: packaging>=20.0 in /Users/saeran/opt/anaconda3/lib/python3.8/site-packages (from librosa) (21.0)\n",
      "Requirement already satisfied: numpy>=1.15.0 in /Users/saeran/opt/anaconda3/lib/python3.8/site-packages (from librosa) (1.21.2)\n",
      "Requirement already satisfied: scikit-learn!=0.19.0,>=0.14.0 in /Users/saeran/opt/anaconda3/lib/python3.8/site-packages (from librosa) (0.23.2)\n",
      "Requirement already satisfied: joblib>=0.14 in /Users/saeran/opt/anaconda3/lib/python3.8/site-packages (from librosa) (0.17.0)\n",
      "Collecting audioread>=2.0.0\n",
      "  Using cached audioread-2.1.9.tar.gz (377 kB)\n",
      "Requirement already satisfied: llvmlite<0.35,>=0.34.0.dev0 in /Users/saeran/opt/anaconda3/lib/python3.8/site-packages (from numba>=0.43.0->librosa) (0.34.0)\n",
      "Requirement already satisfied: setuptools in /Users/saeran/opt/anaconda3/lib/python3.8/site-packages (from numba>=0.43.0->librosa) (58.0.4)\n",
      "Requirement already satisfied: pyparsing>=2.0.2 in /Users/saeran/opt/anaconda3/lib/python3.8/site-packages (from packaging>=20.0->librosa) (2.4.7)\n",
      "Collecting appdirs\n",
      "  Using cached appdirs-1.4.4-py2.py3-none-any.whl (9.6 kB)\n",
      "Requirement already satisfied: requests in /Users/saeran/opt/anaconda3/lib/python3.8/site-packages (from pooch>=1.0->librosa) (2.26.0)\n",
      "Requirement already satisfied: six>=1.3 in /Users/saeran/opt/anaconda3/lib/python3.8/site-packages (from resampy>=0.2.2->librosa) (1.16.0)\n",
      "Requirement already satisfied: threadpoolctl>=2.0.0 in /Users/saeran/opt/anaconda3/lib/python3.8/site-packages (from scikit-learn!=0.19.0,>=0.14.0->librosa) (2.2.0)\n",
      "Requirement already satisfied: cffi>=1.0 in /Users/saeran/opt/anaconda3/lib/python3.8/site-packages (from soundfile>=0.10.2->librosa) (1.14.6)\n",
      "Requirement already satisfied: pycparser in /Users/saeran/opt/anaconda3/lib/python3.8/site-packages (from cffi>=1.0->soundfile>=0.10.2->librosa) (2.20)\n",
      "Requirement already satisfied: charset-normalizer~=2.0.0 in /Users/saeran/opt/anaconda3/lib/python3.8/site-packages (from requests->pooch>=1.0->librosa) (2.0.4)\n",
      "Requirement already satisfied: urllib3<1.27,>=1.21.1 in /Users/saeran/opt/anaconda3/lib/python3.8/site-packages (from requests->pooch>=1.0->librosa) (1.26.7)\n",
      "Requirement already satisfied: certifi>=2017.4.17 in /Users/saeran/opt/anaconda3/lib/python3.8/site-packages (from requests->pooch>=1.0->librosa) (2021.10.8)\n",
      "Requirement already satisfied: idna<4,>=2.5 in /Users/saeran/opt/anaconda3/lib/python3.8/site-packages (from requests->pooch>=1.0->librosa) (3.2)\n",
      "Building wheels for collected packages: audioread, resampy\n",
      "  Building wheel for audioread (setup.py) ... \u001b[?25ldone\n",
      "\u001b[?25h  Created wheel for audioread: filename=audioread-2.1.9-py3-none-any.whl size=23154 sha256=c61f5b973009488a97396e27f0e2c752952ebc367a64e9ab9a44f249f0ab1bec\n",
      "  Stored in directory: /Users/saeran/Library/Caches/pip/wheels/49/5a/e4/df590783499a992a88de6c0898991d1167453a3196d0d1eeb7\n",
      "  Building wheel for resampy (setup.py) ... \u001b[?25ldone\n",
      "\u001b[?25h  Created wheel for resampy: filename=resampy-0.2.2-py3-none-any.whl size=320731 sha256=87639ca8932fdc40b46720fef100ffaa51b41e6712c2845844269401b43498d6\n",
      "  Stored in directory: /Users/saeran/Library/Caches/pip/wheels/6f/d1/5d/f13da53b1dcbc2624ff548456c9ffb526c914f53c12c318bb4\n",
      "Successfully built audioread resampy\n",
      "Installing collected packages: appdirs, resampy, pooch, audioread, librosa\n",
      "Successfully installed appdirs-1.4.4 audioread-2.1.9 librosa-0.8.1 pooch-1.5.2 resampy-0.2.2\n"
     ]
    }
   ],
   "source": [
    "!pip install librosa"
   ]
  },
  {
   "cell_type": "code",
   "execution_count": 1,
   "metadata": {},
   "outputs": [
    {
     "ename": "ModuleNotFoundError",
     "evalue": "No module named 'librosa'",
     "output_type": "error",
     "traceback": [
      "\u001b[0;31m---------------------------------------------------------------------------\u001b[0m",
      "\u001b[0;31mModuleNotFoundError\u001b[0m                       Traceback (most recent call last)",
      "\u001b[0;32m<ipython-input-1-d49edbae7790>\u001b[0m in \u001b[0;36m<module>\u001b[0;34m\u001b[0m\n\u001b[0;32m----> 1\u001b[0;31m \u001b[0;32mimport\u001b[0m \u001b[0mlibrosa\u001b[0m\u001b[0;34m\u001b[0m\u001b[0;34m\u001b[0m\u001b[0m\n\u001b[0m\u001b[1;32m      2\u001b[0m \u001b[0;32mimport\u001b[0m \u001b[0mlibrosa\u001b[0m\u001b[0;34m.\u001b[0m\u001b[0mdisplay\u001b[0m\u001b[0;34m\u001b[0m\u001b[0;34m\u001b[0m\u001b[0m\n\u001b[1;32m      3\u001b[0m \u001b[0;32mimport\u001b[0m \u001b[0mmatplotlib\u001b[0m\u001b[0;34m.\u001b[0m\u001b[0mpyplot\u001b[0m \u001b[0;32mas\u001b[0m \u001b[0mplt\u001b[0m\u001b[0;34m\u001b[0m\u001b[0;34m\u001b[0m\u001b[0m\n\u001b[1;32m      4\u001b[0m \u001b[0;32mimport\u001b[0m \u001b[0mnumpy\u001b[0m \u001b[0;32mas\u001b[0m \u001b[0mnp\u001b[0m\u001b[0;34m\u001b[0m\u001b[0;34m\u001b[0m\u001b[0m\n\u001b[1;32m      5\u001b[0m \u001b[0;32mimport\u001b[0m \u001b[0mpandas\u001b[0m \u001b[0;32mas\u001b[0m \u001b[0mpd\u001b[0m\u001b[0;34m\u001b[0m\u001b[0;34m\u001b[0m\u001b[0m\n",
      "\u001b[0;31mModuleNotFoundError\u001b[0m: No module named 'librosa'"
     ]
    }
   ],
   "source": [
    "import librosa\n",
    "import librosa.display\n",
    "import matplotlib.pyplot as plt\n",
    "import numpy as np\n",
    "import pandas as pd\n",
    "from sklearn.cluster import KMeans"
   ]
  },
  {
   "cell_type": "code",
   "execution_count": null,
   "metadata": {},
   "outputs": [],
   "source": [
    "\n",
    "\n",
    "test_file = 'data/F1.wav'\n",
    "\n",
    "#1. 파일은 16000Hz, 16bits, mono, wave 파일임\n",
    "train_file = 'data/F1.wav'\n",
    "y, sr = librosa.load(train_file, sr=16000) #y=512 sr=16000\n",
    "\n",
    "#2. 파이썬 코드를 이용하여 MFCC 코드를 활용하는데, 입력데이터 y는 512, mfcc 갯수 n은 24로 진행한다. 한개의 파일 당 500개의 프레임으로 분할됨.\n",
    "mel_spec = (librosa.feature.melspectrogram(y, sr=sr, window=512))\n",
    "print(len(mel_spec))\n",
    "mfcc = librosa.feature.mfcc(y=y,sr=sr,n_mfcc = 24,n_fft=512)\n",
    "print(len(mfcc))\n",
    "#3. 2번 결과 데이터를 이용하여 GMM 모델을 구축한다. Mixture 갯수는 5로 설정한다.\n",
    "from sklearn.mixture import GaussianMixture\n",
    "gmm = GaussianMixture(n_components=5, random_state=42)\n",
    "gmm_labels = gmm.fit_predict(iris.data)\n",
    "\n",
    "# GMM 후 클러스터링 레이블을 따로 설정\n",
    "df['gmm_cluster'] = gmm_labels\n",
    "\n",
    "# 실제 레이블과 GMM 클러스터링 후 레이블과 비교해보기(두 레이블 수치가 동일해야 똑같은 레이블 의미 아님!)\n",
    "print(irisDF.groupby('target')['gmm_cluster'].value_counts())\n",
    "\n",
    "\n",
    "#4. 3번에서 만든 코드를 활용하여 화자인\n",
    "# 식 테스트 코드를 만든다.\n",
    "\n",
    "#5. 테스트 파일을 통해 성능을 검증해 본다. \n",
    "#테스트 파일은 GMM 모델 구축을 위해 제공된 각 화자 데이터의 임의의 중간부분의  1.6초 길이의 음성데이터로 만들어 본다.  \n"
   ]
  }
 ],
 "metadata": {
  "kernelspec": {
   "display_name": "Python 3",
   "language": "python",
   "name": "python3"
  },
  "language_info": {
   "codemirror_mode": {
    "name": "ipython",
    "version": 3
   },
   "file_extension": ".py",
   "mimetype": "text/x-python",
   "name": "python",
   "nbconvert_exporter": "python",
   "pygments_lexer": "ipython3",
   "version": "3.8.5"
  }
 },
 "nbformat": 4,
 "nbformat_minor": 4
}
